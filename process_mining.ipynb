{
  "nbformat": 4,
  "nbformat_minor": 0,
  "metadata": {
    "colab": {
      "provenance": [],
      "authorship_tag": "ABX9TyMqRATlSldnKGOuT55iWGyH",
      "include_colab_link": true
    },
    "kernelspec": {
      "name": "python3",
      "display_name": "Python 3"
    },
    "language_info": {
      "name": "python"
    }
  },
  "cells": [
    {
      "cell_type": "markdown",
      "metadata": {
        "id": "view-in-github",
        "colab_type": "text"
      },
      "source": [
        "<a href=\"https://colab.research.google.com/github/mostafadentist/Health-Economics/blob/main/process_mining.ipynb\" target=\"_parent\"><img src=\"https://colab.research.google.com/assets/colab-badge.svg\" alt=\"Open In Colab\"/></a>"
      ]
    },
    {
      "cell_type": "markdown",
      "source": [
        "# Process Mining for Medical Claims Fraud Detection (with pm4py)\n",
        "\n",
        "This notebook applies **process mining techniques** (`pm4py`) to **synthetic medical claims data** to explore fraud detection.  \n",
        "We will progressively build 20+ examples, each illustrating a distinct analytic angle.\n",
        "\n",
        "---\n",
        "\n",
        "## Table of Contents (First 20 Examples)\n",
        "\n",
        "1. **Loading Synthetic Claims Event Log**  \n",
        "2. **Basic Visualization of Claims Process**  \n",
        "3. **Building Directly-Follows Graph (DFG)**  \n",
        "4. **Discovering Alpha Miner Model**  \n",
        "5. **Discovering Heuristic Miner Model**  \n",
        "6. **Discovering Inductive Miner Model**  \n",
        "7. **Petri Net Visualization of Claims Workflow**  \n",
        "8. **Frequency Analysis of Claim Paths**  \n",
        "9. **Performance Analysis: Activity Durations**  \n",
        "10. **Detecting Loops in Claims Submissions**  \n",
        "11. **Conformance Checking: Aligning Logs vs Model**  \n",
        "12. **Fitness Checking for Normal vs Fraudulent Claims**  \n",
        "13. **Precision and Generalization of Discovered Models**  \n",
        "14. **Detecting Deviations (Over-treatment Patterns)**  \n",
        "15. **Detecting Duplicate Claims Submissions**  \n",
        "16. **Filtering Suspicious Activities by Frequency**  \n",
        "17. **Identifying Unusually Short Treatment-to-Billing Times**  \n",
        "18. **Process Variant Analysis (Healthy vs Fraudulent Cohorts)**  \n",
        "19. **Detecting Unusual Provider Sequences**  \n",
        "20. **Social Network Analysis of Claims Actors (Resource mining)**  \n",
        "\n",
        "---\n",
        "\n",
        "### Methodology\n",
        "- **Data type**: event logs (e.g., patient visits, diagnosis, treatment, billing, payment).  \n",
        "- **Framework**: `pm4py` for process discovery, conformance checking, and performance analysis.  \n",
        "- **Objective**: illustrate how *process anomalies* can flag **potential fraud scenarios**.  \n",
        "\n",
        "---"
      ],
      "metadata": {
        "id": "-ORiPCROwFIt"
      }
    },
    {
      "cell_type": "code",
      "source": [
        "!pip install pm4py"
      ],
      "metadata": {
        "colab": {
          "base_uri": "https://localhost:8080/"
        },
        "id": "wimJJODrwQ2W",
        "outputId": "1478e1a4-e54f-4a6f-fc3b-587770f4cb08"
      },
      "execution_count": 2,
      "outputs": [
        {
          "output_type": "stream",
          "name": "stdout",
          "text": [
            "Collecting pm4py\n",
            "  Downloading pm4py-2.7.17.1-py3-none-any.whl.metadata (4.8 kB)\n",
            "Requirement already satisfied: numpy in /usr/local/lib/python3.12/dist-packages (from pm4py) (2.0.2)\n",
            "Requirement already satisfied: pandas in /usr/local/lib/python3.12/dist-packages (from pm4py) (2.2.2)\n",
            "Collecting deprecation (from pm4py)\n",
            "  Downloading deprecation-2.1.0-py2.py3-none-any.whl.metadata (4.6 kB)\n",
            "Requirement already satisfied: networkx in /usr/local/lib/python3.12/dist-packages (from pm4py) (3.5)\n",
            "Requirement already satisfied: graphviz in /usr/local/lib/python3.12/dist-packages (from pm4py) (0.21)\n",
            "Requirement already satisfied: wheel in /usr/local/lib/python3.12/dist-packages (from pm4py) (0.45.1)\n",
            "Requirement already satisfied: setuptools in /usr/local/lib/python3.12/dist-packages (from pm4py) (75.2.0)\n",
            "Collecting intervaltree (from pm4py)\n",
            "  Downloading intervaltree-3.1.0.tar.gz (32 kB)\n",
            "  Preparing metadata (setup.py) ... \u001b[?25l\u001b[?25hdone\n",
            "Requirement already satisfied: lxml in /usr/local/lib/python3.12/dist-packages (from pm4py) (5.4.0)\n",
            "Requirement already satisfied: matplotlib in /usr/local/lib/python3.12/dist-packages (from pm4py) (3.10.0)\n",
            "Requirement already satisfied: pydotplus in /usr/local/lib/python3.12/dist-packages (from pm4py) (2.0.2)\n",
            "Requirement already satisfied: pytz in /usr/local/lib/python3.12/dist-packages (from pm4py) (2025.2)\n",
            "Requirement already satisfied: scipy in /usr/local/lib/python3.12/dist-packages (from pm4py) (1.16.2)\n",
            "Requirement already satisfied: tqdm in /usr/local/lib/python3.12/dist-packages (from pm4py) (4.67.1)\n",
            "Requirement already satisfied: cvxopt in /usr/local/lib/python3.12/dist-packages (from pm4py) (1.3.2)\n",
            "Requirement already satisfied: packaging in /usr/local/lib/python3.12/dist-packages (from deprecation->pm4py) (25.0)\n",
            "Requirement already satisfied: sortedcontainers<3.0,>=2.0 in /usr/local/lib/python3.12/dist-packages (from intervaltree->pm4py) (2.4.0)\n",
            "Requirement already satisfied: contourpy>=1.0.1 in /usr/local/lib/python3.12/dist-packages (from matplotlib->pm4py) (1.3.3)\n",
            "Requirement already satisfied: cycler>=0.10 in /usr/local/lib/python3.12/dist-packages (from matplotlib->pm4py) (0.12.1)\n",
            "Requirement already satisfied: fonttools>=4.22.0 in /usr/local/lib/python3.12/dist-packages (from matplotlib->pm4py) (4.60.0)\n",
            "Requirement already satisfied: kiwisolver>=1.3.1 in /usr/local/lib/python3.12/dist-packages (from matplotlib->pm4py) (1.4.9)\n",
            "Requirement already satisfied: pillow>=8 in /usr/local/lib/python3.12/dist-packages (from matplotlib->pm4py) (11.3.0)\n",
            "Requirement already satisfied: pyparsing>=2.3.1 in /usr/local/lib/python3.12/dist-packages (from matplotlib->pm4py) (3.2.4)\n",
            "Requirement already satisfied: python-dateutil>=2.7 in /usr/local/lib/python3.12/dist-packages (from matplotlib->pm4py) (2.9.0.post0)\n",
            "Requirement already satisfied: tzdata>=2022.7 in /usr/local/lib/python3.12/dist-packages (from pandas->pm4py) (2025.2)\n",
            "Requirement already satisfied: six>=1.5 in /usr/local/lib/python3.12/dist-packages (from python-dateutil>=2.7->matplotlib->pm4py) (1.17.0)\n",
            "Downloading pm4py-2.7.17.1-py3-none-any.whl (2.2 MB)\n",
            "\u001b[2K   \u001b[90m━━━━━━━━━━━━━━━━━━━━━━━━━━━━━━━━━━━━━━━━\u001b[0m \u001b[32m2.2/2.2 MB\u001b[0m \u001b[31m77.8 MB/s\u001b[0m eta \u001b[36m0:00:00\u001b[0m\n",
            "\u001b[?25hDownloading deprecation-2.1.0-py2.py3-none-any.whl (11 kB)\n",
            "Building wheels for collected packages: intervaltree\n",
            "  Building wheel for intervaltree (setup.py) ... \u001b[?25l\u001b[?25hdone\n",
            "  Created wheel for intervaltree: filename=intervaltree-3.1.0-py2.py3-none-any.whl size=26098 sha256=4d0aad3c527b7fc5127770625c598f3695a6de87025892b297d7c5ea91b1f96f\n",
            "  Stored in directory: /root/.cache/pip/wheels/65/c3/c3/238bf93c243597857edd94ddb0577faa74a8e16e9585896e83\n",
            "Successfully built intervaltree\n",
            "Installing collected packages: intervaltree, deprecation, pm4py\n",
            "Successfully installed deprecation-2.1.0 intervaltree-3.1.0 pm4py-2.7.17.1\n"
          ]
        }
      ]
    },
    {
      "cell_type": "code",
      "execution_count": 3,
      "metadata": {
        "colab": {
          "base_uri": "https://localhost:8080/"
        },
        "id": "M5u1VZrJvpp7",
        "outputId": "fdec6bfd-a0de-4bd4-962b-b03ff488581f"
      },
      "outputs": [
        {
          "output_type": "stream",
          "name": "stderr",
          "text": [
            "/usr/local/lib/python3.12/dist-packages/cudf/utils/gpu_utils.py:75: UserWarning: Failed to dlopen libcuda.so.1\n",
            "  warnings.warn(str(e))\n",
            "/usr/local/lib/python3.12/dist-packages/cudf/pandas/__init__.py:64: UserWarning: Function \"cuInit\" not found\n",
            "  warnings.warn(str(e))\n"
          ]
        },
        {
          "output_type": "stream",
          "name": "stdout",
          "text": [
            "Synthetic Claims Event Log (top 10 rows):\n",
            "  case:concept:name concept:name time:timestamp org:resource\n",
            "0           CLAIM_1        Visit     2025-01-07     Doctor_A\n",
            "1           CLAIM_1    Diagnosis     2025-01-11     Doctor_A\n",
            "2           CLAIM_1    Treatment     2025-01-12      Nurse_A\n",
            "3           CLAIM_1      Billing     2025-01-15     Doctor_B\n",
            "4           CLAIM_1      Payment     2025-01-18     Doctor_B\n",
            "5           CLAIM_2        Visit     2025-01-29     Doctor_B\n",
            "6           CLAIM_2    Diagnosis     2025-01-30     Doctor_A\n",
            "7           CLAIM_2    Treatment     2025-02-02    Insurer_X\n",
            "8           CLAIM_2      Billing     2025-02-04     Doctor_A\n",
            "9           CLAIM_2      Payment     2025-02-07    Insurer_X\n",
            "\n",
            "Event log loaded into pm4py. Number of traces: 50\n"
          ]
        }
      ],
      "source": [
        "# Install pm4py (uncomment if running first time in Colab)\n",
        "# !pip install pm4py\n",
        "\n",
        "import pandas as pd\n",
        "import numpy as np\n",
        "import datetime\n",
        "import random\n",
        "\n",
        "from pm4py.objects.log.util import dataframe_utils\n",
        "from pm4py.objects.conversion.log import converter as log_converter\n",
        "\n",
        "np.random.seed(42)\n",
        "random.seed(42)\n",
        "\n",
        "# --- Step 1. Generate synthetic claims data ---\n",
        "\n",
        "n_cases = 50   # number of claim processes\n",
        "activities = [\"Visit\", \"Diagnosis\", \"Treatment\", \"Billing\", \"Payment\"]\n",
        "resources = [\"Doctor_A\", \"Doctor_B\", \"Nurse_A\", \"System_Bill\", \"Insurer_X\"]\n",
        "\n",
        "rows = []\n",
        "start_date = datetime.datetime(2025, 1, 1)\n",
        "\n",
        "for case_id in range(1, n_cases+1):\n",
        "    n_acts = len(activities)\n",
        "    time_pointer = start_date + datetime.timedelta(days=np.random.randint(0,30))\n",
        "\n",
        "    for act in activities:\n",
        "        rows.append({\n",
        "            \"case:concept:name\": f\"CLAIM_{case_id}\",\n",
        "            \"concept:name\": act,\n",
        "            \"time:timestamp\": time_pointer,\n",
        "            \"org:resource\": random.choice(resources)\n",
        "        })\n",
        "        # increase timestamp for next activity\n",
        "        time_pointer += datetime.timedelta(days=np.random.randint(1,5))\n",
        "\n",
        "df = pd.DataFrame(rows)\n",
        "\n",
        "print(\"Synthetic Claims Event Log (top 10 rows):\")\n",
        "print(df.head(10))\n",
        "\n",
        "# --- Step 2. Convert to pm4py Event Log object ---\n",
        "df = dataframe_utils.convert_timestamp_columns_in_df(df)\n",
        "event_log = log_converter.apply(df)\n",
        "\n",
        "print(\"\\nEvent log loaded into pm4py. Number of traces:\", len(event_log))"
      ]
    },
    {
      "cell_type": "code",
      "source": [
        "from pm4py.algo.discovery.dfg import algorithm as dfg_discovery\n",
        "from pm4py.visualization.dfg import visualizer as dfg_visualization\n",
        "\n",
        "# --- Step 1. Discover the Directly-Follows Graph (DFG) ---\n",
        "dfg = dfg_discovery.apply(df)\n",
        "\n",
        "# --- Step 2. Visualize the DFG ---\n",
        "gviz = dfg_visualization.apply(dfg, log=event_log, variant=dfg_visualization.Variants.FREQUENCY)\n",
        "dfg_visualization.view(gviz)"
      ],
      "metadata": {
        "colab": {
          "base_uri": "https://localhost:8080/",
          "height": 76
        },
        "id": "ju6aM_cCwBpv",
        "outputId": "f9d7ad91-2e66-4a17-9be8-fd6d56f8cba1"
      },
      "execution_count": 4,
      "outputs": [
        {
          "output_type": "display_data",
          "data": {
            "image/png": "[encoded data removed]",
            "text/plain": [
              "<IPython.core.display.Image object>"
            ]
          },
          "metadata": {}
        }
      ]
    },
    {
      "cell_type": "code",
      "source": [
        "from pm4py.visualization.dfg import visualizer as dfg_visualization\n",
        "\n",
        "# --- Step 1. Discover the Directly-Follows Graph ---\n",
        "dfg = dfg_discovery.apply(df)\n",
        "perf_dfg = dfg_discovery.apply(df, variant=dfg_discovery.Variants.PERFORMANCE)\n",
        "\n",
        "# --- Step 2. Frequency Variant ---\n",
        "gviz_freq = dfg_visualization.apply(dfg, log=event_log, variant=dfg_visualization.Variants.FREQUENCY)\n",
        "dfg_visualization.view(gviz_freq)\n",
        "\n",
        "# --- Step 3. Performance Variant ---\n",
        "gviz_perf = dfg_visualization.apply(perf_dfg, log=event_log, variant=dfg_visualization.Variants.PERFORMANCE)\n",
        "dfg_visualization.view(gviz_perf)"
      ],
      "metadata": {
        "colab": {
          "base_uri": "https://localhost:8080/",
          "height": 135
        },
        "id": "7n7UiP1UwBj0",
        "outputId": "2582c4be-978b-4f06-9692-7cfe32bfc255"
      },
      "execution_count": 5,
      "outputs": [
        {
          "output_type": "display_data",
          "data": {
            "image/png": "[encoded data removed]",
            "text/plain": [
              "<IPython.core.display.Image object>"
            ]
          },
          "metadata": {}
        },
        {
          "output_type": "display_data",
          "data": {
            "image/png": "[encoded data removed]",
            "text/plain": [
              "<IPython.core.display.Image object>"
            ]
          },
          "metadata": {}
        }
      ]
    },
    {
      "cell_type": "code",
      "source": [
        "from pm4py.algo.discovery.alpha import algorithm as alpha_miner\n",
        "from pm4py.visualization.petri_net import visualizer as pn_visualizer\n",
        "\n",
        "# --- Step 1. Apply Alpha Miner ---\n",
        "net, initial_marking, final_marking = alpha_miner.apply(event_log)\n",
        "\n",
        "# --- Step 2. Visualize the Petri Net ---\n",
        "gviz = pn_visualizer.apply(net, initial_marking, final_marking)\n",
        "pn_visualizer.view(gviz)"
      ],
      "metadata": {
        "colab": {
          "base_uri": "https://localhost:8080/",
          "height": 110
        },
        "id": "32Y-PNB6wBep",
        "outputId": "fc4b54d1-a1a1-4ab6-af75-e7d4037d135a"
      },
      "execution_count": 6,
      "outputs": [
        {
          "output_type": "display_data",
          "data": {
            "image/png": "[encoded data removed]",
            "text/plain": [
              "<IPython.core.display.Image object>"
            ]
          },
          "metadata": {}
        }
      ]
    },
    {
      "cell_type": "markdown",
      "source": [
        "## Example 5: Heuristic Miner Discovery\n",
        "- **What it is**: Heuristic Miner is a process discovery algorithm robust to **noise and exceptional behavior** in the logs.  \n",
        "- **Why it matters**: Claims systems contain messy data — repeat submissions, skipped steps, late entries. Unlike Alpha Miner, Heuristic Miner can filter noise.  \n",
        "- **Fraud detection linkage**:  \n",
        "  - If “Billing → Payment” occurs far more frequently than medically plausible, it may suggest **phantom claims** (bills without treatments).  \n",
        "  - Paths with very low statistical support (rare sequences) can be indicators of **outlier providers** engaging in abuse.  \n",
        "\n",
        "## Example 6: Inductive Miner Discovery\n",
        "- **What it is**: Inductive Miner builds **sound Petri nets** systematically, ensuring the discovered model is free of deadlocks.  \n",
        "- **Why it matters**: Produces clean models even when data are incomplete or irregular.  \n",
        "- **Fraud detection linkage**:  \n",
        "  - Ensures we have a baseline **reference model** of “normal” claims flow.  \n",
        "  - Conformance checking later tells us how far actual claims deviate — useful for quantifying anomalies.\n",
        "\n",
        "## Example 7: Petri Net Visualization of Claims Workflow\n",
        "- **What it is**: A visualization of claims process as **Petri nets**. Nodes = activities (e.g., Diagnosis, Billing). Places show states, arcs show flows.  \n",
        "- **Why it matters**: Gives a **state machine view of claims** that can be replayed against real logs.  \n",
        "- **Fraud detection linkage**:  \n",
        "  - Missing arcs (e.g., no Diagnosis before Billing) could flag suspect cases.  \n",
        "  - Loops (e.g., Diagnosis → Diagnosis → Billing) may represent **over‑diagnosing or upcoding** patterns."
      ],
      "metadata": {
        "id": "9JInS3JDxCry"
      }
    },
    {
      "cell_type": "code",
      "source": [
        "from pm4py.algo.discovery.heuristics import algorithm as heuristics_miner\n",
        "from pm4py.algo.discovery.inductive import algorithm as inductive_miner\n",
        "\n",
        "# --- Heuristic Miner ---\n",
        "net_h, im_h, fm_h = heuristics_miner.apply(event_log)\n",
        "gviz_h = pn_visualizer.apply(net_h, im_h, fm_h)\n",
        "# Visualization: graph highlights dominant paths (ignore minor noisy edges)\n",
        "pn_visualizer.view(gviz_h)\n",
        "\n"
      ],
      "metadata": {
        "colab": {
          "base_uri": "https://localhost:8080/",
          "height": 110
        },
        "id": "_Ibc7JgiwBZK",
        "outputId": "af9aaa79-3174-4aa3-b5b0-80807a60abda"
      },
      "execution_count": 8,
      "outputs": [
        {
          "output_type": "display_data",
          "data": {
            "image/png": "[encoded data removed]",
            "text/plain": [
              "<IPython.core.display.Image object>"
            ]
          },
          "metadata": {}
        }
      ]
    },
    {
      "cell_type": "code",
      "source": [
        "from pm4py.algo.discovery.inductive import algorithm as inductive_miner\n",
        "from pm4py.objects.conversion.process_tree import converter as pt_converter\n",
        "from pm4py.visualization.process_tree import visualizer as pt_visualizer\n",
        "\n",
        "# --- Step 1. Discover Process Tree using Inductive Miner ---\n",
        "process_tree = inductive_miner.apply(event_log)\n",
        "\n",
        "# --- Step 2. Visualize the Process Tree directly ---\n",
        "gviz_tree = pt_visualizer.apply(process_tree)\n",
        "pt_visualizer.view(gviz_tree)\n",
        "\n",
        "# --- Step 3. Convert Process Tree to Petri Net (if needed) ---\n",
        "net_i, im_i, fm_i = pt_converter.apply(process_tree)\n",
        "gviz_net = pn_visualizer.apply(net_i, im_i, fm_i)\n",
        "pn_visualizer.view(gviz_net)"
      ],
      "metadata": {
        "colab": {
          "base_uri": "https://localhost:8080/",
          "height": 457
        },
        "id": "xfUq-PSZwBPS",
        "outputId": "1257c5d7-82f9-4817-bbbc-600cdb9a9000"
      },
      "execution_count": 10,
      "outputs": [
        {
          "output_type": "display_data",
          "data": {
            "image/png": "[encoded data removed]",
            "text/plain": [
              "<IPython.core.display.Image object>"
            ]
          },
          "metadata": {}
        },
        {
          "output_type": "display_data",
          "data": {
            "image/png": "[encoded data removed]",
            "text/plain": [
              "<IPython.core.display.Image object>"
            ]
          },
          "metadata": {}
        }
      ]
    },
    {
      "cell_type": "code",
      "source": [
        "import numpy as np\n",
        "from pm4py.algo.filtering.log.variants import variants_filter\n",
        "from pm4py.statistics.variants.log import get as variants_module\n",
        "\n",
        "# --- Step 1: Get variant statistics ---\n",
        "variants_count = variants_module.get_variants(event_log)\n",
        "\n",
        "# Sort variants by frequency\n",
        "variant_freq = [(k, len(v)) for k, v in variants_count.items()]\n",
        "variant_freq = sorted(variant_freq, key=lambda x: x[1], reverse=True)\n",
        "\n",
        "# --- Step 2: Pick the most frequent variant ---\n",
        "most_freq_variant = variant_freq[0][0]\n",
        "print(\"Most frequent variant string:\", most_freq_variant)\n",
        "\n",
        "# Get its sub-log\n",
        "variant_log = variants_filter.apply(event_log, [most_freq_variant])\n",
        "\n",
        "# --- Step 3: Calculate durations between successive activities ---\n",
        "durations = []\n",
        "for trace in variant_log:\n",
        "    for i in range(1, len(trace)):\n",
        "        delta = trace[i]['time:timestamp'] - trace[i-1]['time:timestamp']\n",
        "        durations.append(delta.days)\n",
        "\n",
        "print(\"Average step duration (days):\", np.mean(durations))\n",
        "print(\"Durations distribution (first 10 values):\", durations[:10])"
      ],
      "metadata": {
        "colab": {
          "base_uri": "https://localhost:8080/"
        },
        "id": "a7rxt1JIwBA-",
        "outputId": "9e94403d-b7de-4de1-b393-b52a9417b07a"
      },
      "execution_count": 19,
      "outputs": [
        {
          "output_type": "stream",
          "name": "stdout",
          "text": [
            "Most frequent variant string: ('Visit', 'Diagnosis', 'Treatment', 'Billing', 'Payment')\n",
            "Average step duration (days): 2.52\n",
            "Durations distribution (first 10 values): [4, 1, 3, 3, 1, 3, 2, 3, 3, 4]\n"
          ]
        }
      ]
    },
    {
      "cell_type": "markdown",
      "source": [
        "## Example 11: Conformance Checking – Aligning Logs vs Model\n",
        "- **What it is:** Replay the actual event log against a reference Petri net model to check if cases are *compliant* or *deviant*.  \n",
        "- **Why it matters:** Fraudulent or anomalous claims often **skip mandatory steps** (e.g., Diagnosis missing before Billing).  \n",
        "- **Analyst takeaway:** Each trace gets an **alignment cost** → high cost = suspicious deviation.  \n",
        "\n",
        "---\n",
        "\n",
        "## Example 12: Fitness Checking – Normal vs Fraudulent Claims\n",
        "- **Fitness measure:**  \n",
        "  \\[\n",
        "  \\text{Fitness} = 1 - \\frac{\\text{Alignment cost}}{\\text{Maximum cost}}\n",
        "  \\]  \n",
        "- **Interpretation:**  \n",
        "  - Fitness ≈ 1.0 → case perfectly fits the model (normal).  \n",
        "  - Fitness ≪ 1.0 → case deviates (potential fraud).  \n",
        "- **Use case:** Split dataset into **normal cohort vs suspect cohort** by fitness cutoff.\n",
        "\n",
        "---\n",
        "\n",
        "## Example 13: Precision and Generalization\n",
        "- **Precision:** Model does not overgeneralize (avoids falsely allowing impossible traces).  \n",
        "- **Generalization:** Model remains flexible enough to capture legitimate variability.  \n",
        "- **Fraud flagging:**  \n",
        "  - Low precision = model too permissive → harder to spot fraud.  \n",
        "  - Too rigid (low generalization) → normal edge-cases misclassified as fraud.  \n",
        "- **Balance point:** Important for policy/regulator design."
      ],
      "metadata": {
        "id": "5C1QYzxAydPz"
      }
    },
    {
      "cell_type": "code",
      "source": [
        "from pm4py.objects.conversion.process_tree import converter as pt_converter\n",
        "from pm4py.algo.conformance.alignments.petri_net import algorithm as alignments\n",
        "\n",
        "# --- Step 1: Use Inductive Miner model as reference ---\n",
        "from pm4py.algo.discovery.inductive import algorithm as inductive_miner\n",
        "\n",
        "process_tree = inductive_miner.apply(event_log)\n",
        "net_ref, im_ref, fm_ref = pt_converter.apply(process_tree)\n",
        "\n",
        "# --- Step 2: Alignment-based conformance checking ---\n",
        "alignment_result = alignments.apply_log(event_log, net_ref, im_ref, fm_ref)\n",
        "\n",
        "# Inspect first 3 alignments\n",
        "for i, a in enumerate(alignment_result[:3]):\n",
        "    print(f\"Case {i+1}: Fitness={a['fitness']:.2f}, Details={a['alignment']}\")\n",
        "\n"
      ],
      "metadata": {
        "colab": {
          "base_uri": "https://localhost:8080/"
        },
        "id": "vwyWDfkuwA8n",
        "outputId": "1917b3b1-29db-47b0-e17f-e4b0839bb2d9"
      },
      "execution_count": 23,
      "outputs": [
        {
          "output_type": "stream",
          "name": "stdout",
          "text": [
            "Case 1: Fitness=1.00, Details=[('Visit', 'Visit'), ('Diagnosis', 'Diagnosis'), ('Treatment', 'Treatment'), ('Billing', 'Billing'), ('Payment', 'Payment')]\n",
            "Case 2: Fitness=1.00, Details=[('Visit', 'Visit'), ('Diagnosis', 'Diagnosis'), ('Treatment', 'Treatment'), ('Billing', 'Billing'), ('Payment', 'Payment')]\n",
            "Case 3: Fitness=1.00, Details=[('Visit', 'Visit'), ('Diagnosis', 'Diagnosis'), ('Treatment', 'Treatment'), ('Billing', 'Billing'), ('Payment', 'Payment')]\n"
          ]
        }
      ]
    },
    {
      "cell_type": "markdown",
      "metadata": {
        "id": "f187da92"
      },
      "source": [
        "## Example 16: Filtering Suspicious Activities by Frequency\n",
        "\n",
        "- **What it is:** Identifying activities or sequences of activities that occur with unusually low or high frequency compared to the norm.\n",
        "- **Why it matters:** Fraudulent activities might manifest as rare events (e.g., an unusual treatment for a common diagnosis) or as overly frequent events (e.g., billing for a service that wasn't provided).\n",
        "- **Fraud detection linkage:** By analyzing the frequency of activities and their direct succession, we can pinpoint outliers that warrant further investigation."
      ]
    },
    {
      "cell_type": "markdown",
      "metadata": {
        "id": "75008f4f"
      },
      "source": [
        "## Example 15: Detecting Duplicate Claims Submissions\n",
        "\n",
        "- **What it is:** Identifying cases that have identical sequences of activities and timestamps, or very similar sequences within a short timeframe. This can indicate duplicate billing for the same service.\n",
        "- **Why it matters:** Duplicate claims are a common form of healthcare fraud. Process mining can help uncover these by comparing process variants and timestamps.\n",
        "- **Fraud detection linkage:** Cases with identical or near-identical traces, especially if submitted close in time, are highly suspicious and should be investigated as potential duplicate claims."
      ]
    },
    {
      "cell_type": "code",
      "metadata": {
        "colab": {
          "base_uri": "https://localhost:8080/"
        },
        "id": "03edae8a",
        "outputId": "41f933e3-c294-456f-b708-e0b71e75d1d9"
      },
      "source": [
        "from pm4py.algo.filtering.log.variants import variants_filter\n",
        "from pm4py.statistics.variants.log import get as variants_module\n",
        "from collections import defaultdict\n",
        "\n",
        "# --- Step 1: Get variant statistics ---\n",
        "variants_count = variants_module.get_variants(event_log)\n",
        "\n",
        "# --- Step 2: Group traces by variant ---\n",
        "traces_by_variant = defaultdict(list)\n",
        "for trace in event_log:\n",
        "    variant = tuple([event['concept:name'] for event in trace])\n",
        "    traces_by_variant[variant].append(trace)\n",
        "\n",
        "# --- Step 3: Identify potential duplicates within each variant ---\n",
        "# This is a simplified approach. For real data, you'd need more sophisticated logic\n",
        "# considering timestamps and activity attributes.\n",
        "\n",
        "duplicate_candidates = []\n",
        "for variant, traces in traces_by_variant.items():\n",
        "    if len(traces) > 1:\n",
        "        # For this synthetic data, any variant with more than one trace is a potential duplicate\n",
        "        # In reality, you'd compare timestamps and other attributes here\n",
        "        duplicate_candidates.extend(traces)\n",
        "\n",
        "print(f\"Number of potential duplicate claim candidates (based on identical variants): {len(duplicate_candidates)}\")\n",
        "\n",
        "if len(duplicate_candidates) > 0:\n",
        "    print(\"\\nExamining the first potential duplicate candidate trace:\")\n",
        "    first_duplicate_trace = duplicate_candidates[0]\n",
        "    print(\"Trace:\", [event['concept:name'] for event in first_duplicate_trace])\n",
        "    print(\"Case ID:\", first_duplicate_trace.attributes['concept:name'])\n",
        "    print(\"Timestamps:\")\n",
        "    for event in first_duplicate_trace:\n",
        "        print(f\"- {event['concept:name']}: {event['time:timestamp']}\")"
      ],
      "execution_count": 25,
      "outputs": [
        {
          "output_type": "stream",
          "name": "stdout",
          "text": [
            "Number of potential duplicate claim candidates (based on identical variants): 50\n",
            "\n",
            "Examining the first potential duplicate candidate trace:\n",
            "Trace: ['Visit', 'Diagnosis', 'Treatment', 'Billing', 'Payment']\n",
            "Case ID: CLAIM_1\n",
            "Timestamps:\n",
            "- Visit: 2025-01-07 00:00:00\n",
            "- Diagnosis: 2025-01-11 00:00:00\n",
            "- Treatment: 2025-01-12 00:00:00\n",
            "- Billing: 2025-01-15 00:00:00\n",
            "- Payment: 2025-01-18 00:00:00\n"
          ]
        }
      ]
    },
    {
      "cell_type": "markdown",
      "metadata": {
        "id": "73e012d1"
      },
      "source": [
        "## Example 14: Detecting Deviations (Over-treatment Patterns)\n",
        "\n",
        "- **What it is:** Identifying traces that deviate significantly from the discovered process model. This can highlight unusual sequences of activities that might indicate over-treatment or unnecessary procedures.\n",
        "- **Why it matters:** Deviations from standard treatment pathways can be a strong indicator of potential fraud, where services are provided or billed without medical necessity.\n",
        "- **Fraud detection linkage:** By analyzing the specific activities and their order in deviant traces, we can pinpoint suspicious patterns that warrant further investigation."
      ]
    },
    {
      "cell_type": "code",
      "metadata": {
        "colab": {
          "base_uri": "https://localhost:8080/"
        },
        "id": "92685fd2",
        "outputId": "10f75006-6cd5-44b9-ea9f-ef1eef2df53b"
      },
      "source": [
        "from pm4py.algo.conformance.alignments.petri_net import algorithm as alignments\n",
        "from pm4py.algo.discovery.inductive import algorithm as inductive_miner\n",
        "from pm4py.objects.conversion.process_tree import converter as pt_converter\n",
        "\n",
        "# Re-discover the model (if not already available)\n",
        "process_tree = inductive_miner.apply(event_log)\n",
        "net_ref, im_ref, fm_ref = pt_converter.apply(process_tree)\n",
        "\n",
        "# Perform alignments\n",
        "alignment_result = alignments.apply_log(event_log, net_ref, im_ref, fm_ref)\n",
        "\n",
        "# Filter cases with low fitness (potential deviations)\n",
        "deviant_cases = [trace for trace, result in zip(event_log, alignment_result) if result['fitness'] < 1.0]\n",
        "\n",
        "print(f\"Number of deviant cases (fitness < 1.0): {len(deviant_cases)}\")\n",
        "\n",
        "# Analyze a few deviant cases (if any)\n",
        "if len(deviant_cases) > 0:\n",
        "    print(\"\\nAnalyzing the first deviant case:\")\n",
        "    first_deviant_trace = deviant_cases[0]\n",
        "    print(\"Trace:\", [event['concept:name'] for event in first_deviant_trace])\n",
        "    # You can further analyze the alignment details for this trace\n",
        "    # Find the alignment result for this specific trace\n",
        "    first_deviant_alignment = next(item for item in alignment_result if item['trace_index'] == event_log.index(first_deviant_trace))\n",
        "    print(\"Alignment details:\", first_deviant_alignment['alignment'])"
      ],
      "execution_count": 29,
      "outputs": [
        {
          "output_type": "stream",
          "name": "stdout",
          "text": [
            "Number of deviant cases (fitness < 1.0): 0\n"
          ]
        }
      ]
    },
    {
      "cell_type": "markdown",
      "source": [
        "## Example 14: Detecting Deviations (Over-treatment Patterns)\n",
        "- **Concept:** Identify cases where the number of certain activities (e.g., *Treatment*) exceeds a normal threshold.  \n",
        "- **Why it matters:** Excessive repetitions can indicate **supplier-induced demand** or **padding claims**.  \n",
        "- **Fraud signal:** A claim trace that includes >3 treatments per visit cycle is suspect.\n",
        "\n",
        "---\n",
        "\n",
        "## Example 15: Detecting Duplicate Claims Submissions\n",
        "- **Concept:** Duplicate claims = same **case, service, date** billed more than once.  \n",
        "- **Why it matters:** Classic fraudulent behavior: billing for the same service repeatedly.  \n",
        "- **Fraud signal:** Duplicate case IDs with identical activity combinations.\n",
        "\n",
        "---\n",
        "\n",
        "## Example 16: Filtering Suspicious Activities by Frequency\n",
        "- **Concept:** Identify **low-frequency paths** that diverge from the norm.  \n",
        "- **Why it matters:** Rare sequences often signal **edge cases or fraud attempts**.  \n",
        "- **Fraud signal:** Paths like `Visit → Billing → Payment` (skipping Diagnosis/Treatment)."
      ],
      "metadata": {
        "id": "giy-b9vezPRF"
      }
    },
    {
      "cell_type": "code",
      "source": [
        "# --- Example 14: Detect cases with excessive Treatments ---\n",
        "suspect_cases_treatment = []\n",
        "for trace in event_log:\n",
        "    activities = [e[\"concept:name\"] for e in trace]\n",
        "    if activities.count(\"Treatment\") > 3:\n",
        "        suspect_cases_treatment.append(trace.attributes[\"concept:name\"])\n",
        "\n",
        "print(\"Cases with excessive treatments:\", suspect_cases_treatment)\n",
        "\n",
        "\n",
        "# --- Example 15: Detect duplicate claims ---\n",
        "# Create a simplified claim signature (activities sequence)\n",
        "claim_signatures = {}\n",
        "duplicates = []\n",
        "for trace in event_log:\n",
        "    case_id = trace.attributes[\"concept:name\"]\n",
        "    activities = tuple([e[\"concept:name\"] for e in trace])\n",
        "    if activities in claim_signatures.values():\n",
        "        duplicates.append(case_id)\n",
        "    else:\n",
        "        claim_signatures[case_id] = activities\n",
        "\n",
        "print(\"Duplicate claim case IDs:\", duplicates)\n",
        "\n",
        "\n",
        "# --- Example 16: Filter suspicious low-frequency variants ---\n",
        "from pm4py.statistics.variants.log import get as variants_module\n",
        "\n",
        "variants_count = variants_module.get_variants(event_log)\n",
        "variant_freq = [(k, len(v)) for k, v in variants_count.items()]\n",
        "variant_freq = sorted(variant_freq, key=lambda x: x[1], reverse=True)\n",
        "\n",
        "# Define threshold: variants appearing less than 3 times\n",
        "rare_variants = [v for v in variant_freq if v[1] < 3]\n",
        "\n",
        "print(\"Rare variants (potentially suspicious):\")\n",
        "for rv in rare_variants:\n",
        "    print(f\"Variant: {rv[0]} | Count: {rv[1]}\")"
      ],
      "metadata": {
        "colab": {
          "base_uri": "https://localhost:8080/"
        },
        "id": "LALz1QaKwA1h",
        "outputId": "51da9abb-06cd-4ad8-f734-ea0a8f037b0d"
      },
      "execution_count": 30,
      "outputs": [
        {
          "output_type": "stream",
          "name": "stdout",
          "text": [
            "Cases with excessive treatments: []\n",
            "Duplicate claim case IDs: ['CLAIM_2', 'CLAIM_3', 'CLAIM_4', 'CLAIM_5', 'CLAIM_6', 'CLAIM_7', 'CLAIM_8', 'CLAIM_9', 'CLAIM_10', 'CLAIM_11', 'CLAIM_12', 'CLAIM_13', 'CLAIM_14', 'CLAIM_15', 'CLAIM_16', 'CLAIM_17', 'CLAIM_18', 'CLAIM_19', 'CLAIM_20', 'CLAIM_21', 'CLAIM_22', 'CLAIM_23', 'CLAIM_24', 'CLAIM_25', 'CLAIM_26', 'CLAIM_27', 'CLAIM_28', 'CLAIM_29', 'CLAIM_30', 'CLAIM_31', 'CLAIM_32', 'CLAIM_33', 'CLAIM_34', 'CLAIM_35', 'CLAIM_36', 'CLAIM_37', 'CLAIM_38', 'CLAIM_39', 'CLAIM_40', 'CLAIM_41', 'CLAIM_42', 'CLAIM_43', 'CLAIM_44', 'CLAIM_45', 'CLAIM_46', 'CLAIM_47', 'CLAIM_48', 'CLAIM_49', 'CLAIM_50']\n",
            "Rare variants (potentially suspicious):\n"
          ]
        }
      ]
    },
    {
      "cell_type": "markdown",
      "source": [
        "## Example 17: Identifying Unusually Short Treatment-to-Billing Times\n",
        "- **Concept:** Measure time between `Treatment` and `Billing`.  \n",
        "- **Why it matters:** If billing occurs instantly (same day/hour) with zero lag, it may indicate fraudulent fast-tracking.  \n",
        "- **Fraud signal:** Lag < 1 day = suspicious.\n",
        "\n",
        "---\n",
        "\n",
        "## Example 18: Process Variant Analysis (Healthy vs Fraudulent Cohorts)\n",
        "- **Concept:** Segment event logs by cohort (e.g., “healthy” vs. “fraudulent” providers).  \n",
        "- **Why it matters:** Different provider groups may show structurally different paths.  \n",
        "- **Fraud signal:** Fraudulent cohort shows higher share of abnormal variants (skipped Diagnosis, repeated Treatments).\n",
        "\n",
        "---\n",
        "\n",
        "## Example 19: Detecting Unusual Provider Sequences\n",
        "- **Concept:** Track resource (doctor/provider) ordering in traces.  \n",
        "- **Why it matters:** Providers normally appear in logical order. Abnormal sequences may flag collusion.  \n",
        "- **Fraud signal:** “Insurer → Doctor → Billing” ordering is nonsensical.\n",
        "\n",
        "---\n",
        "\n",
        "## Example 20: Social Network Analysis of Claims Actors (Resource Mining)\n",
        "- **Concept:** Build a network graph of how resources (doctors, nurses, insurers) interact across cases.  \n",
        "- **Why it matters:** Central actors with abnormally high connections could be suspicious hubs.  \n",
        "- **Fraud signal:** A single resource linked to disproportionate claim volume."
      ],
      "metadata": {
        "id": "mRJnHoKXzZAC"
      }
    },
    {
      "cell_type": "code",
      "source": [
        "import pandas as pd\n",
        "from collections import Counter\n",
        "from itertools import pairwise\n",
        "\n",
        "# --- Example 17: Treatment-to-Billing time ---\n",
        "suspicious_cases = []\n",
        "for trace in event_log:\n",
        "    times = {e[\"concept:name\"]: e[\"time:timestamp\"] for e in trace}\n",
        "    if \"Treatment\" in times and \"Billing\" in times:\n",
        "        lag = (times[\"Billing\"] - times[\"Treatment\"]).days\n",
        "        if lag < 1:  # suspiciously fast\n",
        "            suspicious_cases.append(trace.attributes[\"concept:name\"])\n",
        "print(\"Cases with <=0 day treatment-to-billing lag:\", suspicious_cases)\n",
        "\n",
        "\n",
        "# --- Example 18: Cohort Variant Analysis ---\n",
        "# For illustration, split cases randomly into \"healthy\" vs \"fraudulent\"\n",
        "cohorts = {\"healthy\": [], \"fraudulent\": []}\n",
        "for i, trace in enumerate(event_log):\n",
        "    if i % 2 == 0:\n",
        "        cohorts[\"healthy\"].append(trace)\n",
        "    else:\n",
        "        cohorts[\"fraudulent\"].append(trace)\n",
        "\n",
        "for name, log in cohorts.items():\n",
        "    variants = variants_module.get_variants(log)\n",
        "    print(f\"{name} cohort: {len(variants)} unique variants in {len(log)} cases\")\n",
        "\n",
        "\n",
        "# --- Example 19: Unusual Provider Sequences (robust version) ---\n",
        "abnormal_sequences = []\n",
        "\n",
        "for trace in event_log:\n",
        "    seq = [e[\"org:resource\"] for e in trace]\n",
        "\n",
        "    if \"Insurer_X\" in seq and \"Doctor_A\" in seq:\n",
        "        # Only compare order if both appear in sequence\n",
        "        if seq.index(\"Insurer_X\") < seq.index(\"Doctor_A\"):\n",
        "            abnormal_sequences.append(trace.attributes[\"concept:name\"])\n",
        "\n",
        "print(\"Cases with abnormal provider ordering:\", abnormal_sequences)\n",
        "\n",
        "# --- Example 20: Social Network Analysis of Actors ---\n",
        "edges = []\n",
        "for trace in event_log:\n",
        "    seq = [e[\"org:resource\"] for e in trace]\n",
        "    for a, b in pairwise(seq):\n",
        "        edges.append((a,b))\n",
        "\n",
        "edge_count = Counter(edges)\n",
        "print(\"Top 5 resource interaction edges:\")\n",
        "for edge, c in edge_count.most_common(5):\n",
        "    print(edge, \":\", c)"
      ],
      "metadata": {
        "colab": {
          "base_uri": "https://localhost:8080/"
        },
        "id": "XqUDF-ISwAw8",
        "outputId": "48252978-8d8f-45bf-f58b-37fd1c8e27bd"
      },
      "execution_count": 32,
      "outputs": [
        {
          "output_type": "stream",
          "name": "stdout",
          "text": [
            "Cases with <=0 day treatment-to-billing lag: []\n",
            "healthy cohort: 1 unique variants in 25 cases\n",
            "fraudulent cohort: 1 unique variants in 25 cases\n",
            "Cases with abnormal provider ordering: ['CLAIM_4', 'CLAIM_6', 'CLAIM_9', 'CLAIM_10', 'CLAIM_17', 'CLAIM_23', 'CLAIM_26', 'CLAIM_27', 'CLAIM_29', 'CLAIM_31', 'CLAIM_38', 'CLAIM_40']\n",
            "Top 5 resource interaction edges:\n",
            "('Doctor_A', 'Doctor_A') : 14\n",
            "('Doctor_B', 'Insurer_X') : 13\n",
            "('Insurer_X', 'Doctor_B') : 11\n",
            "('Nurse_A', 'Doctor_A') : 10\n",
            "('Doctor_A', 'Insurer_X') : 9\n"
          ]
        }
      ]
    },
    {
      "cell_type": "code",
      "source": [],
      "metadata": {
        "id": "mmZ3ZJR9wAsm"
      },
      "execution_count": null,
      "outputs": []
    },
    {
      "cell_type": "code",
      "source": [],
      "metadata": {
        "id": "xiO_Oc1awAoY"
      },
      "execution_count": null,
      "outputs": []
    },
    {
      "cell_type": "code",
      "source": [],
      "metadata": {
        "id": "poBkXn3gwAjy"
      },
      "execution_count": null,
      "outputs": []
    },
    {
      "cell_type": "code",
      "source": [],
      "metadata": {
        "id": "zEBwoLIfwAfR"
      },
      "execution_count": null,
      "outputs": []
    },
    {
      "cell_type": "code",
      "source": [],
      "metadata": {
        "id": "cuLY2StbwAa5"
      },
      "execution_count": null,
      "outputs": []
    },
    {
      "cell_type": "code",
      "source": [],
      "metadata": {
        "id": "I7H1xDmdwAUb"
      },
      "execution_count": null,
      "outputs": []
    },
    {
      "cell_type": "code",
      "source": [],
      "metadata": {
        "id": "A29cRdrQwAQI"
      },
      "execution_count": null,
      "outputs": []
    },
    {
      "cell_type": "code",
      "source": [],
      "metadata": {
        "id": "TMmsxBOjwALL"
      },
      "execution_count": null,
      "outputs": []
    },
    {
      "cell_type": "code",
      "source": [],
      "metadata": {
        "id": "UfnkgvjwwAEZ"
      },
      "execution_count": null,
      "outputs": []
    }
  ]
}